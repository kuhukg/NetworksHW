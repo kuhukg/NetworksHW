{
 "cells": [
  {
   "cell_type": "code",
   "execution_count": 2,
   "metadata": {
    "scrolled": true
   },
   "outputs": [
    {
     "name": "stdout",
     "output_type": "stream",
     "text": [
      "1.1533333333333333\n"
     ]
    }
   ],
   "source": [
    "import matplotlib.pyplot as plt\n",
    "%matplotlib inline\n",
    "import networkx as nx\n",
    "import numpy as np\n",
    "from pylab import *\n",
    "\n",
    "def two_deg_friend(g, node):\n",
    "    deg_sum = 0\n",
    "    if g.degree[node] > 0:\n",
    "        for friend in g.neighbors(node):\n",
    "            deg_sum += g.degree[friend]\n",
    "        deg_sum = deg_sum / g.degree[node]\n",
    "    return deg_sum \n",
    "\n",
    "gnp = nx.gnp_random_graph(100,0.01)\n",
    "deg_sum = 0\n",
    "for node in gnp.nodes():\n",
    "    deg_sum += two_deg_friend(gnp, node)\n",
    "print(deg_sum / 100)\n"
   ]
  }
 ],
 "metadata": {
  "kernelspec": {
   "display_name": "Python 3",
   "language": "python",
   "name": "python3"
  },
  "language_info": {
   "codemirror_mode": {
    "name": "ipython",
    "version": 3
   },
   "file_extension": ".py",
   "mimetype": "text/x-python",
   "name": "python",
   "nbconvert_exporter": "python",
   "pygments_lexer": "ipython3",
   "version": "3.7.0"
  }
 },
 "nbformat": 4,
 "nbformat_minor": 2
}
