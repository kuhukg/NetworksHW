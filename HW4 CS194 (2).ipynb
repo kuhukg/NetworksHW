{
 "cells": [
  {
   "cell_type": "code",
   "execution_count": 2,
   "metadata": {},
   "outputs": [
    {
     "name": "stdout",
     "output_type": "stream",
     "text": [
      "18.0\n"
     ]
    },
    {
     "data": {
      "image/png": "[encoded data removed]",
      "text/plain": [
       "<Figure size 432x288 with 1 Axes>"
      ]
     },
     "metadata": {
      "needs_background": "light"
     },
     "output_type": "display_data"
    },
    {
     "data": {
      "image/png": "[encoded data removed]",
      "text/plain": [
       "<Figure size 432x288 with 1 Axes>"
      ]
     },
     "metadata": {
      "needs_background": "light"
     },
     "output_type": "display_data"
    }
   ],
   "source": [
    "#8a\n",
    "import matplotlib.pyplot as plt\n",
    "%matplotlib inline\n",
    "import networkx as nx\n",
    "import numpy as np\n",
    "from pylab import *\n",
    "import collections\n",
    "\n",
    "Gba = nx.barabasi_albert_graph(100, 10)\n",
    "avg_deg = sum(list(dict(Gba.degree()).values())) * 1.0 / nx.number_of_nodes(Gba)\n",
    "print(avg_deg)\n",
    "degree_sequence = sorted([d for n, d in Gba.degree()], reverse=True)\n",
    "degreeCount = collections.Counter(degree_sequence)\n",
    "deg, cnt = zip(*degreeCount.items())\n",
    "\n",
    "fig, ax = plt.subplots()\n",
    "plt.bar(deg, cnt, width=0.80, color='b')\n",
    "\n",
    "plt.title(\"Degree Histogram\")\n",
    "plt.ylabel(\"Count\")\n",
    "plt.xlabel(\"Degree\")\n",
    "ax.set_xticks([d + 0.4 for d in deg])\n",
    "ax.set_xticklabels(deg)\n",
    "plt.show()\n",
    "\n",
    "#8b\n",
    "Gnp = nx.gnp_random_graph(100, avg_deg * 1.0 / 99)\n",
    "degree_sequence = sorted([d for n, d in Gnp.degree()], reverse=True)\n",
    "degreeCount = collections.Counter(degree_sequence)\n",
    "deg, cnt = zip(*degreeCount.items())\n",
    "\n",
    "fig, ax = plt.subplots()\n",
    "plt.bar(deg, cnt, width=0.80, color='b')\n",
    "\n",
    "plt.title(\"Degree Histogram\")\n",
    "plt.ylabel(\"Count\")\n",
    "plt.xlabel(\"Degree\")\n",
    "ax.set_xticks([d + 0.4 for d in deg])\n",
    "ax.set_xticklabels(deg)\n",
    "plt.show()\n"
   ]
  },
  {
   "cell_type": "code",
   "execution_count": 45,
   "metadata": {},
   "outputs": [
    {
     "name": "stdout",
     "output_type": "stream",
     "text": [
      "23.81389838544168\n"
     ]
    }
   ],
   "source": [
    "#9\n",
    "def two_deg_friend(g, node):\n",
    "    deg_sum = 0\n",
    "    if g.degree[node] > 0:\n",
    "        for friend in g.neighbors(node):\n",
    "            deg_sum += g.degree[friend]\n",
    "        deg_sum = deg_sum / g.degree[node]\n",
    "    return deg_sum \n",
    "\n",
    "gnp = nx.barabasi_albert_graph(100,10)\n",
    "deg_sum = 0\n",
    "for node in gnp.nodes():\n",
    "    deg_sum += two_deg_friend(gnp, node)\n",
    "print(deg_sum / 100)"
   ]
  },
  {
   "cell_type": "code",
   "execution_count": 5,
   "metadata": {},
   "outputs": [],
   "source": [
    "#11a\n",
    "GoogleWeb = nx.read_edgelist(\"/Users/kuhukgoyal/Downloads/web-Google.txt\")\n"
   ]
  },
  {
   "cell_type": "code",
   "execution_count": 10,
   "metadata": {},
   "outputs": [],
   "source": [
    "giant = max(nx.connected_component_subgraphs(GoogleWeb), key=len)\n"
   ]
  },
  {
   "cell_type": "code",
   "execution_count": 40,
   "metadata": {
    "scrolled": true
   },
   "outputs": [
    {
     "name": "stdout",
     "output_type": "stream",
     "text": [
      "Fractional Size: 0.9772630987549574\n",
      "Clustering Coefficient: 0.5471459340258317\n",
      "Average Shortest Path Length: 6.39\n"
     ]
    }
   ],
   "source": [
    "giant_num = giant.number_of_nodes()\n",
    "frac_size = giant_num / GoogleWeb.number_of_nodes()\n",
    "print(\"Fractional Size:\", frac_size)\n",
    "rand_nodes_1 = []\n",
    "for _ in range(0,100):\n",
    "    node_to_add = choice(list(giant.nodes()))\n",
    "    rand_nodes_1.append(node_to_add)\n",
    "rand_nodes_2 = []\n",
    "for _ in range(0,100):\n",
    "    node_to_add = choice(list(giant.nodes()))\n",
    "    rand_nodes_2.append(node_to_add)\n",
    "clstr_lst = []\n",
    "for node in rand_nodes_1:\n",
    "    clstr_lst.append(nx.clustering(giant, node))\n",
    "print(\"Clustering Coefficient:\", np.mean(clstr_lst))\n",
    "apl_lst = []\n",
    "rand_node_pairs = zip(rand_nodes_1, rand_nodes_2)\n",
    "for pair in rand_node_pairs:\n",
    "    apl_lst.append(nx.shortest_path_length(giant, source=pair[0], target=pair[1]))\n",
    "print(\"Average Shortest Path Length:\", np.mean(apl_lst))\n"
   ]
  },
  {
   "cell_type": "code",
   "execution_count": 6,
   "metadata": {},
   "outputs": [
    {
     "name": "stdout",
     "output_type": "stream",
     "text": [
      "number of edges: 4322051\n",
      "number of nodes: 875713\n"
     ]
    }
   ],
   "source": [
    "m = GoogleWeb.number_of_edges()\n",
    "n = GoogleWeb.number_of_nodes()\n",
    "print(\"number of edges:\", m)\n",
    "print(\"number of nodes:\", n)\n",
    "p = (2*m)/(n*(n-1))"
   ]
  },
  {
   "cell_type": "code",
   "execution_count": 7,
   "metadata": {},
   "outputs": [
    {
     "name": "stdout",
     "output_type": "stream",
     "text": [
      "Rand Fractional Size: 0.9999486133013898\n",
      "Rand Clustering Coefficient: 0.0\n",
      "Rand Average Shortest Path Length: 6.32\n"
     ]
    }
   ],
   "source": [
    "#11b\n",
    "rand_G = nx.fast_gnp_random_graph(n,p)\n",
    "giant = max(nx.connected_component_subgraphs(rand_G), key=len)\n",
    "giant_num = giant.number_of_nodes()\n",
    "frac_size = giant_num / rand_G.number_of_nodes()\n",
    "print(\"Rand Fractional Size:\", frac_size)\n",
    "rand_nodes_1 = []\n",
    "for _ in range(0,100):\n",
    "    node_to_add = choice(list(giant.nodes()))\n",
    "    rand_nodes_1.append(node_to_add)\n",
    "rand_nodes_2 = []\n",
    "for _ in range(0,100):\n",
    "    node_to_add = choice(list(giant.nodes()))\n",
    "    rand_nodes_2.append(node_to_add)\n",
    "clstr_lst = []\n",
    "for node in rand_nodes_1:\n",
    "    clstr_lst.append(nx.clustering(giant, node))\n",
    "print(\"Rand Clustering Coefficient:\", np.mean(clstr_lst))\n",
    "apl_lst = []\n",
    "rand_node_pairs = zip(rand_nodes_1, rand_nodes_2)\n",
    "for pair in rand_node_pairs:\n",
    "    apl_lst.append(nx.shortest_path_length(giant, source=pair[0], target=pair[1]))\n",
    "print(\"Rand Average Shortest Path Length:\", np.mean(apl_lst))"
   ]
  }
 ],
 "metadata": {
  "kernelspec": {
   "display_name": "Python 3",
   "language": "python",
   "name": "python3"
  },
  "language_info": {
   "codemirror_mode": {
    "name": "ipython",
    "version": 3
   },
   "file_extension": ".py",
   "mimetype": "text/x-python",
   "name": "python",
   "nbconvert_exporter": "python",
   "pygments_lexer": "ipython3",
   "version": "3.7.0"
  }
 },
 "nbformat": 4,
 "nbformat_minor": 2
}
