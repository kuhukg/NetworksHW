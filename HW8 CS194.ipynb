{
 "cells": [
  {
   "cell_type": "code",
   "execution_count": 1,
   "metadata": {},
   "outputs": [],
   "source": [
    "import networkx as nx\n",
    "import random\n",
    "import numpy as np\n",
    "import matplotlib.pyplot as plt"
   ]
  },
  {
   "cell_type": "code",
   "execution_count": null,
   "metadata": {},
   "outputs": [],
   "source": []
  },
  {
   "cell_type": "code",
   "execution_count": 2,
   "metadata": {},
   "outputs": [],
   "source": [
    "def simulate_sis(graph, t_infect, p_infect):\n",
    "    infected = set()\n",
    "    infected_time = {}\n",
    "    initial_node = random.choice(list(graph.nodes()))\n",
    "    infected.add(initial_node)\n",
    "    infected_time[initial_node] = 0\n",
    "    t = 0\n",
    "    total_infected = set()\n",
    "    while (len(infected) > 0) & (t <= 5000):\n",
    "        t += 1\n",
    "        newly_infected = set()\n",
    "        newly_susceptible = set()\n",
    "        for node in infected:\n",
    "            for next_node in graph.neighbors(node):\n",
    "                if next_node in infected:\n",
    "                    continue\n",
    "                if random.random() < p_infect:\n",
    "                    newly_infected.add(next_node)\n",
    "            if infected_time[node] + t_infect == t:\n",
    "                newly_susceptible.add(node)\n",
    "        for node in newly_susceptible:\n",
    "            infected.remove(node)\n",
    "        for node in newly_infected:\n",
    "            infected.add(node)\n",
    "            total_infected.add(node)\n",
    "            infected_time[node] = t\n",
    "    return len(infected), len(total_infected), t"
   ]
  },
  {
   "cell_type": "code",
   "execution_count": 3,
   "metadata": {},
   "outputs": [
    {
     "name": "stdout",
     "output_type": "stream",
     "text": [
      "For GNP w/ p = 0.02 infection time: 1 infection probability: 0.1 Average lifetime infected is 600.2 Average final infected is 197.8 Average wave size is 3001.2\n"
     ]
    }
   ],
   "source": [
    "t_infect = 1; p_infect = 0.1; p_edge = 0.02\n",
    "g = nx.gnp_random_graph(1000, p_edge, directed=True)\n",
    "avg_final, avg_total, avg_wave = 0, 0, 0\n",
    "for _ in range(0,10):\n",
    "    temp_final, temp_total, temp_wave = simulate_sis(g, t_infect, p_infect)\n",
    "    avg_final += temp_final\n",
    "    avg_total += temp_total\n",
    "    avg_wave += temp_wave\n",
    "print (\"For GNP w/ p = \" + str(p_edge) + \" infection time: \" + str(t_infect) + \" infection probability: \" + str(p_infect) + \" Average lifetime infected is \" + str(avg_total / 10) + \" Average final infected is \" + str(avg_final / 10) + \" Average wave size is \" + str(avg_wave / 10) )\n",
    "\n"
   ]
  },
  {
   "cell_type": "code",
   "execution_count": 4,
   "metadata": {},
   "outputs": [
    {
     "name": "stdout",
     "output_type": "stream",
     "text": [
      "For GNP w/ p = 0.02 infection time: 5 infection probability: 0.1 Average lifetime infected is 1000.0 Average final infected is 796.4 Average wave size is 5001.0\n"
     ]
    }
   ],
   "source": [
    "t_infect = 5; p_infect = 0.1; p_edge = 0.02\n",
    "g = nx.gnp_random_graph(1000, p_edge, directed=True)\n",
    "avg_final, avg_total, avg_wave = 0, 0, 0\n",
    "for _ in range(0,10):\n",
    "    temp_final, temp_total, temp_wave = simulate_sis(g, t_infect, p_infect)\n",
    "    avg_final += temp_final\n",
    "    avg_total += temp_total\n",
    "    avg_wave += temp_wave\n",
    "print (\"For GNP w/ p = \" + str(p_edge) + \" infection time: \" + str(t_infect) + \" infection probability: \" + str(p_infect) + \" Average lifetime infected is \" + str(avg_total / 10) + \" Average final infected is \" + str(avg_final / 10) + \" Average wave size is \" + str(avg_wave / 10) )\n",
    "\n"
   ]
  },
  {
   "cell_type": "code",
   "execution_count": 5,
   "metadata": {},
   "outputs": [
    {
     "name": "stdout",
     "output_type": "stream",
     "text": [
      "For GNP w/ p = 0.02 infection time: 1 infection probability: 0.5 Average lifetime infected is 1000.0 Average final infected is 501.3 Average wave size is 5001.0\n"
     ]
    }
   ],
   "source": [
    "t_infect = 1; p_infect = 0.5; p_edge = 0.02\n",
    "g = nx.gnp_random_graph(1000, p_edge, directed=True)\n",
    "avg_final, avg_total, avg_wave = 0, 0, 0\n",
    "for _ in range(0,10):\n",
    "    temp_final, temp_total, temp_wave = simulate_sis(g, t_infect, p_infect)\n",
    "    avg_final += temp_final\n",
    "    avg_total += temp_total\n",
    "    avg_wave += temp_wave\n",
    "print (\"For GNP w/ p = \" + str(p_edge) + \" infection time: \" + str(t_infect) + \" infection probability: \" + str(p_infect) + \" Average lifetime infected is \" + str(avg_total / 10) + \" Average final infected is \" + str(avg_final / 10) + \" Average wave size is \" + str(avg_wave / 10) )\n",
    "\n"
   ]
  },
  {
   "cell_type": "code",
   "execution_count": 6,
   "metadata": {},
   "outputs": [
    {
     "name": "stdout",
     "output_type": "stream",
     "text": [
      "For GNP w/ p = 0.02 infection time: 5 infection probability: 0.5 Average lifetime infected is 1000.0 Average final infected is 659.8 Average wave size is 5001.0\n"
     ]
    }
   ],
   "source": [
    "t_infect = 5; p_infect = 0.5; p_edge = 0.02\n",
    "g = nx.gnp_random_graph(1000, p_edge, directed=True)\n",
    "avg_final, avg_total, avg_wave = 0, 0, 0\n",
    "for _ in range(0,10):\n",
    "    temp_final, temp_total, temp_wave = simulate_sis(g, t_infect, p_infect)\n",
    "    avg_final += temp_final\n",
    "    avg_total += temp_total\n",
    "    avg_wave += temp_wave\n",
    "print (\"For GNP w/ p = \" + str(p_edge) + \" infection time: \" + str(t_infect) + \" infection probability: \" + str(p_infect) + \" Average lifetime infected is \" + str(avg_total / 10) + \" Average final infected is \" + str(avg_final / 10) + \" Average wave size is \" + str(avg_wave / 10) )\n",
    "\n"
   ]
  },
  {
   "cell_type": "code",
   "execution_count": 7,
   "metadata": {},
   "outputs": [
    {
     "name": "stdout",
     "output_type": "stream",
     "text": [
      "For GNP w/ p = 0.02 infection time: 1 infection probability: 1.0 Average lifetime infected is 1000.0 Average final infected is 689.8 Average wave size is 5001.0\n"
     ]
    }
   ],
   "source": [
    "t_infect = 1; p_infect = 1.0; p_edge = 0.02\n",
    "g = nx.gnp_random_graph(1000, p_edge, directed=True)\n",
    "avg_final, avg_total, avg_wave = 0, 0, 0\n",
    "for _ in range(0,10):\n",
    "    temp_final, temp_total, temp_wave = simulate_sis(g, t_infect, p_infect)\n",
    "    avg_final += temp_final\n",
    "    avg_total += temp_total\n",
    "    avg_wave += temp_wave\n",
    "print (\"For GNP w/ p = \" + str(p_edge) + \" infection time: \" + str(t_infect) + \" infection probability: \" + str(p_infect) + \" Average lifetime infected is \" + str(avg_total / 10) + \" Average final infected is \" + str(avg_final / 10) + \" Average wave size is \" + str(avg_wave / 10) )\n",
    "\n"
   ]
  },
  {
   "cell_type": "code",
   "execution_count": 8,
   "metadata": {},
   "outputs": [
    {
     "name": "stdout",
     "output_type": "stream",
     "text": [
      "For GNP w/ p = 0.02 infection time: 5 infection probability: 1.0 Average lifetime infected is 1000.0 Average final infected is 998.1 Average wave size is 5001.0\n"
     ]
    }
   ],
   "source": [
    "t_infect = 5; p_infect = 1.0; p_edge = 0.02\n",
    "g = nx.gnp_random_graph(1000, p_edge, directed=True)\n",
    "avg_final, avg_total, avg_wave = 0, 0, 0\n",
    "for _ in range(0,10):\n",
    "    temp_final, temp_total, temp_wave = simulate_sis(g, t_infect, p_infect)\n",
    "    avg_final += temp_final\n",
    "    avg_total += temp_total\n",
    "    avg_wave += temp_wave\n",
    "print (\"For GNP w/ p = \" + str(p_edge) + \" infection time: \" + str(t_infect) + \" infection probability: \" + str(p_infect) + \" Average lifetime infected is \" + str(avg_total / 10) + \" Average final infected is \" + str(avg_final / 10) + \" Average wave size is \" + str(avg_wave / 10) )\n",
    "\n"
   ]
  },
  {
   "cell_type": "code",
   "execution_count": 9,
   "metadata": {},
   "outputs": [
    {
     "name": "stdout",
     "output_type": "stream",
     "text": [
      "For GNP w/ p = 0.002 infection time: 1 infection probability: 0.1 Average lifetime infected is 0.3 Average final infected is 0.0 Average wave size is 1.3\n"
     ]
    }
   ],
   "source": [
    "t_infect = 1; p_infect = 0.1; p_edge = 0.002\n",
    "g = nx.gnp_random_graph(1000, p_edge, directed=True)\n",
    "avg_final, avg_total, avg_wave = 0, 0, 0\n",
    "for _ in range(0,10):\n",
    "    temp_final, temp_total, temp_wave = simulate_sis(g, t_infect, p_infect)\n",
    "    avg_final += temp_final\n",
    "    avg_total += temp_total\n",
    "    avg_wave += temp_wave\n",
    "print (\"For GNP w/ p = \" + str(p_edge) + \" infection time: \" + str(t_infect) + \" infection probability: \" + str(p_infect) + \" Average lifetime infected is \" + str(avg_total / 10) + \" Average final infected is \" + str(avg_final / 10) + \" Average wave size is \" + str(avg_wave / 10) )\n",
    "\n"
   ]
  },
  {
   "cell_type": "code",
   "execution_count": 10,
   "metadata": {},
   "outputs": [
    {
     "name": "stdout",
     "output_type": "stream",
     "text": [
      "For GNP w/ p = 0.002 infection time: 5 infection probability: 0.1 Average lifetime infected is 5.1 Average final infected is 0.0 Average wave size is 11.7\n"
     ]
    }
   ],
   "source": [
    "t_infect = 5; p_infect = 0.1; p_edge = 0.002\n",
    "g = nx.gnp_random_graph(1000, p_edge, directed=True)\n",
    "avg_final, avg_total, avg_wave = 0, 0, 0\n",
    "for _ in range(0,10):\n",
    "    temp_final, temp_total, temp_wave = simulate_sis(g, t_infect, p_infect)\n",
    "    avg_final += temp_final\n",
    "    avg_total += temp_total\n",
    "    avg_wave += temp_wave\n",
    "print (\"For GNP w/ p = \" + str(p_edge) + \" infection time: \" + str(t_infect) + \" infection probability: \" + str(p_infect) + \" Average lifetime infected is \" + str(avg_total / 10) + \" Average final infected is \" + str(avg_final / 10) + \" Average wave size is \" + str(avg_wave / 10) )\n",
    "\n"
   ]
  },
  {
   "cell_type": "code",
   "execution_count": 11,
   "metadata": {},
   "outputs": [
    {
     "name": "stdout",
     "output_type": "stream",
     "text": [
      "For GNP w/ p = 0.002 infection time: 1 infection probability: 0.5 Average lifetime infected is 7.6 Average final infected is 0.0 Average wave size is 4.4\n"
     ]
    }
   ],
   "source": [
    "t_infect = 1; p_infect = 0.5; p_edge = 0.002\n",
    "g = nx.gnp_random_graph(1000, p_edge, directed=True)\n",
    "avg_final, avg_total, avg_wave = 0, 0, 0\n",
    "for _ in range(0,10):\n",
    "    temp_final, temp_total, temp_wave = simulate_sis(g, t_infect, p_infect)\n",
    "    avg_final += temp_final\n",
    "    avg_total += temp_total\n",
    "    avg_wave += temp_wave\n",
    "print (\"For GNP w/ p = \" + str(p_edge) + \" infection time: \" + str(t_infect) + \" infection probability: \" + str(p_infect) + \" Average lifetime infected is \" + str(avg_total / 10) + \" Average final infected is \" + str(avg_final / 10) + \" Average wave size is \" + str(avg_wave / 10) )\n",
    "\n"
   ]
  },
  {
   "cell_type": "code",
   "execution_count": 13,
   "metadata": {},
   "outputs": [
    {
     "name": "stdout",
     "output_type": "stream",
     "text": [
      "For GNP w/ p = 0.002 infection time: 5 infection probability: 0.5 Average lifetime infected is 462.2 Average final infected is 334.1 Average wave size is 3002.6\n"
     ]
    }
   ],
   "source": [
    "t_infect = 5; p_infect = 0.5; p_edge = 0.002\n",
    "g = nx.gnp_random_graph(1000, p_edge, directed=True)\n",
    "avg_final, avg_total, avg_wave = 0, 0, 0\n",
    "for _ in range(0,10):\n",
    "    temp_final, temp_total, temp_wave = simulate_sis(g, t_infect, p_infect)\n",
    "    avg_final += temp_final\n",
    "    avg_total += temp_total\n",
    "    avg_wave += temp_wave\n",
    "print (\"For GNP w/ p = \" + str(p_edge) + \" infection time: \" + str(t_infect) + \" infection probability: \" + str(p_infect) + \" Average lifetime infected is \" + str(avg_total / 10) + \" Average final infected is \" + str(avg_final / 10) + \" Average wave size is \" + str(avg_wave / 10) )\n",
    "\n"
   ]
  },
  {
   "cell_type": "code",
   "execution_count": 14,
   "metadata": {},
   "outputs": [
    {
     "name": "stdout",
     "output_type": "stream",
     "text": [
      "For GNP w/ p = 0.002 infection time: 1 infection probability: 1.0 Average lifetime infected is 691.2 Average final infected is 342.8 Average wave size is 4501.0\n"
     ]
    }
   ],
   "source": [
    "t_infect = 1; p_infect = 1.0; p_edge = 0.002\n",
    "g = nx.gnp_random_graph(1000, p_edge, directed=True)\n",
    "avg_final, avg_total, avg_wave = 0, 0, 0\n",
    "for _ in range(0,10):\n",
    "    temp_final, temp_total, temp_wave = simulate_sis(g, t_infect, p_infect)\n",
    "    avg_final += temp_final\n",
    "    avg_total += temp_total\n",
    "    avg_wave += temp_wave\n",
    "print (\"For GNP w/ p = \" + str(p_edge) + \" infection time: \" + str(t_infect) + \" infection probability: \" + str(p_infect) + \" Average lifetime infected is \" + str(avg_total / 10) + \" Average final infected is \" + str(avg_final / 10) + \" Average wave size is \" + str(avg_wave / 10) )\n",
    "\n"
   ]
  },
  {
   "cell_type": "code",
   "execution_count": 15,
   "metadata": {},
   "outputs": [
    {
     "name": "stdout",
     "output_type": "stream",
     "text": [
      "For GNP w/ p = 0.002 infection time: 5 infection probability: 1.0 Average lifetime infected is 621.0 Average final infected is 512.5 Average wave size is 4001.9\n"
     ]
    }
   ],
   "source": [
    "t_infect = 5; p_infect = 1.0; p_edge = 0.002\n",
    "g = nx.gnp_random_graph(1000, p_edge, directed=True)\n",
    "avg_final, avg_total, avg_wave = 0, 0, 0\n",
    "for _ in range(0,10):\n",
    "    temp_final, temp_total, temp_wave = simulate_sis(g, t_infect, p_infect)\n",
    "    avg_final += temp_final\n",
    "    avg_total += temp_total\n",
    "    avg_wave += temp_wave\n",
    "print (\"For GNP w/ p = \" + str(p_edge) + \" infection time: \" + str(t_infect) + \" infection probability: \" + str(p_infect) + \" Average lifetime infected is \" + str(avg_total / 10) + \" Average final infected is \" + str(avg_final / 10) + \" Average wave size is \" + str(avg_wave / 10) )\n",
    "\n"
   ]
  },
  {
   "cell_type": "code",
   "execution_count": 31,
   "metadata": {},
   "outputs": [],
   "source": [
    "def run_sis(t_infect, p_infect, p_edge):\n",
    "    g = nx.watts_strogatz_graph(1000, int(1000*p_edge), 0.05).to_directed()\n",
    "    avg_final, avg_total, avg_wave = 0, 0, 0\n",
    "    for _ in range(0,10):\n",
    "        temp_final, temp_total, temp_wave = simulate_sis(g, t_infect, p_infect)\n",
    "        avg_final += temp_final\n",
    "        avg_total += temp_total\n",
    "        avg_wave += temp_wave\n",
    "    print (\"For Wattz-Strogatz w/ p = \" + str(p_edge) + \" infection time: \" + str(t_infect) + \" infection probability: \" + str(p_infect) + \" Average lifetime infected is \" + str(avg_total / 10) + \" Average final infected is \" + str(avg_final / 10) + \" Average wave size is \" + str(avg_wave / 10) )\n"
   ]
  },
  {
   "cell_type": "code",
   "execution_count": 32,
   "metadata": {},
   "outputs": [
    {
     "name": "stdout",
     "output_type": "stream",
     "text": [
      "For Wattz-Strogatz w/ p = 0.02 infection time: 1 infection probability: 0.1 Average lifetime infected is 800.2 Average final infected is 268.6 Average wave size is 4001.1\n"
     ]
    }
   ],
   "source": [
    "run_sis(1,0.1,0.02)"
   ]
  },
  {
   "cell_type": "code",
   "execution_count": 33,
   "metadata": {},
   "outputs": [
    {
     "name": "stdout",
     "output_type": "stream",
     "text": [
      "For Wattz-Strogatz w/ p = 0.02 infection time: 5 infection probability: 0.1 Average lifetime infected is 1000.0 Average final infected is 806.7 Average wave size is 5001.0\n"
     ]
    }
   ],
   "source": [
    "run_sis(5,0.1,0.02)"
   ]
  },
  {
   "cell_type": "code",
   "execution_count": 34,
   "metadata": {},
   "outputs": [
    {
     "name": "stdout",
     "output_type": "stream",
     "text": [
      "For Wattz-Strogatz w/ p = 0.02 infection time: 1 infection probability: 0.5 Average lifetime infected is 1000.0 Average final infected is 501.3 Average wave size is 5001.0\n"
     ]
    }
   ],
   "source": [
    "run_sis(1,0.5,0.02)"
   ]
  },
  {
   "cell_type": "code",
   "execution_count": 35,
   "metadata": {},
   "outputs": [
    {
     "name": "stdout",
     "output_type": "stream",
     "text": [
      "For Wattz-Strogatz w/ p = 0.02 infection time: 5 infection probability: 0.5 Average lifetime infected is 1000.0 Average final infected is 771.0 Average wave size is 5001.0\n"
     ]
    }
   ],
   "source": [
    "run_sis(5,0.5,0.02)"
   ]
  },
  {
   "cell_type": "code",
   "execution_count": 36,
   "metadata": {},
   "outputs": [
    {
     "name": "stdout",
     "output_type": "stream",
     "text": [
      "For Wattz-Strogatz w/ p = 0.02 infection time: 1 infection probability: 1.0 Average lifetime infected is 1000.0 Average final infected is 456.6 Average wave size is 5001.0\n"
     ]
    }
   ],
   "source": [
    "run_sis(1,1.0,0.02)"
   ]
  },
  {
   "cell_type": "code",
   "execution_count": 37,
   "metadata": {},
   "outputs": [
    {
     "name": "stdout",
     "output_type": "stream",
     "text": [
      "For Wattz-Strogatz w/ p = 0.02 infection time: 5 infection probability: 1.0 Average lifetime infected is 1000.0 Average final infected is 534.2 Average wave size is 5001.0\n"
     ]
    }
   ],
   "source": [
    "run_sis(5,1.0,0.02)"
   ]
  },
  {
   "cell_type": "code",
   "execution_count": 38,
   "metadata": {},
   "outputs": [
    {
     "name": "stdout",
     "output_type": "stream",
     "text": [
      "For Wattz-Strogatz w/ p = 0.002 infection time: 1 infection probability: 0.1 Average lifetime infected is 0.1 Average final infected is 0.0 Average wave size is 1.1\n"
     ]
    }
   ],
   "source": [
    "run_sis(1,0.1,0.002)"
   ]
  },
  {
   "cell_type": "code",
   "execution_count": 39,
   "metadata": {},
   "outputs": [
    {
     "name": "stdout",
     "output_type": "stream",
     "text": [
      "For Wattz-Strogatz w/ p = 0.002 infection time: 5 infection probability: 0.1 Average lifetime infected is 0.9 Average final infected is 0.0 Average wave size is 7.5\n"
     ]
    }
   ],
   "source": [
    "run_sis(5,0.1,0.002)"
   ]
  },
  {
   "cell_type": "code",
   "execution_count": 40,
   "metadata": {},
   "outputs": [
    {
     "name": "stdout",
     "output_type": "stream",
     "text": [
      "For Wattz-Strogatz w/ p = 0.002 infection time: 1 infection probability: 0.5 Average lifetime infected is 3.9 Average final infected is 0.0 Average wave size is 8.2\n"
     ]
    }
   ],
   "source": [
    "run_sis(1,0.5,0.002)"
   ]
  },
  {
   "cell_type": "code",
   "execution_count": 41,
   "metadata": {},
   "outputs": [
    {
     "name": "stdout",
     "output_type": "stream",
     "text": [
      "For Wattz-Strogatz w/ p = 0.002 infection time: 5 infection probability: 0.5 Average lifetime infected is 630.2 Average final infected is 472.0 Average wave size is 5001.0\n"
     ]
    }
   ],
   "source": [
    "run_sis(5,0.5,0.002)"
   ]
  },
  {
   "cell_type": "code",
   "execution_count": 42,
   "metadata": {},
   "outputs": [
    {
     "name": "stdout",
     "output_type": "stream",
     "text": [
      "For Wattz-Strogatz w/ p = 0.002 infection time: 1 infection probability: 1.0 Average lifetime infected is 363.0 Average final infected is 182.1 Average wave size is 5001.0\n"
     ]
    }
   ],
   "source": [
    "run_sis(1,1.0,0.002)"
   ]
  },
  {
   "cell_type": "code",
   "execution_count": 43,
   "metadata": {},
   "outputs": [
    {
     "name": "stdout",
     "output_type": "stream",
     "text": [
      "For Wattz-Strogatz w/ p = 0.002 infection time: 5 infection probability: 1.0 Average lifetime infected is 1000.0 Average final infected is 831.3 Average wave size is 5001.0\n"
     ]
    }
   ],
   "source": [
    "run_sis(5,1.0,0.002)"
   ]
  },
  {
   "cell_type": "code",
   "execution_count": null,
   "metadata": {},
   "outputs": [],
   "source": [
    "def simulate_eve(graph, t_infect, p_infect):\n",
    "    infected = set()\n",
    "    removed = set()\n",
    "    infected_time = {}\n",
    "    initial_node = random.choice(list(graph.nodes()))\n",
    "    infected.add(initial_node)\n",
    "    infected_time[initial_node] = 0\n",
    "    t = 0\n",
    "    while len(infected) > 0:\n",
    "        t += 1\n",
    "        newly_infected = set()\n",
    "        newly_removed = set()\n",
    "        for node in infected:\n",
    "            for next_node in graph.neighbors(node):\n",
    "                if next_node in infected or next_node in removed:\n",
    "                    continue\n",
    "                if random.random() < p_infect:\n",
    "                    newly_infected.add(next_node)\n",
    "            if infected_time[node] + t_infect == t:\n",
    "                newly_removed.add(node)\n",
    "        for node in newly_removed:\n",
    "            removed.add(node)\n",
    "            infected.remove(node)\n",
    "        for node in newly_infected:\n",
    "            infected.add(node)\n",
    "            infected_time[node] = t\n",
    "    return len(removed)"
   ]
  }
 ],
 "metadata": {
  "kernelspec": {
   "display_name": "Python 3",
   "language": "python",
   "name": "python3"
  },
  "language_info": {
   "codemirror_mode": {
    "name": "ipython",
    "version": 3
   },
   "file_extension": ".py",
   "mimetype": "text/x-python",
   "name": "python",
   "nbconvert_exporter": "python",
   "pygments_lexer": "ipython3",
   "version": "3.7.0"
  }
 },
 "nbformat": 4,
 "nbformat_minor": 2
}
