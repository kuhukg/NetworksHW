{
 "cells": [
  {
   "cell_type": "code",
   "execution_count": 8,
   "metadata": {},
   "outputs": [
    {
     "name": "stdout",
     "output_type": "stream",
     "text": [
      "If k is 2 correct color probability is 0.85\n",
      "If k is 2 cascade time is 1.47\n",
      "If k is 3 correct color probability is 0.9384999999999999\n",
      "If k is 3 cascade time is 0.9247\n",
      "If k is 5 correct color probability is 0.9893850000000001\n",
      "If k is 5 cascade time is 0.649247\n",
      "If k is 10 correct color probability is 0.99989385\n",
      "If k is 10 cascade time is 0.26649247\n",
      "probability plot\n"
     ]
    },
    {
     "data": {
      "image/png": "[encoded data removed]",
      "text/plain": [
       "<Figure size 432x288 with 1 Axes>"
      ]
     },
     "metadata": {
      "needs_background": "light"
     },
     "output_type": "display_data"
    },
    {
     "name": "stdout",
     "output_type": "stream",
     "text": [
      "cascade time plot\n"
     ]
    },
    {
     "data": {
      "image/png": "[encoded data removed]",
      "text/plain": [
       "<Figure size 432x288 with 1 Axes>"
      ]
     },
     "metadata": {
      "needs_background": "light"
     },
     "output_type": "display_data"
    }
   ],
   "source": [
    "import matplotlib.pyplot as plt\n",
    "%matplotlib inline\n",
    "import networkx as nx\n",
    "import random\n",
    "\n",
    "def draw_is_majority_color(k):\n",
    "   return random.randint(0, k) > 0\n",
    "\n",
    "def simulate_draws(k):\n",
    "   difference = 0\n",
    "   draws = []\n",
    "   while (difference > -2 and difference < 2):\n",
    "       draws.append(draw_is_majority_color(k))\n",
    "       if draws[-1]:\n",
    "           difference += 1\n",
    "       else:\n",
    "           difference -= 1\n",
    "   if len(draws) > 2 and draws[-3] == draws[-1]:\n",
    "       return len(draws)-3, draws[-1]\n",
    "   else:\n",
    "       return len(draws)-2, draws[-1]\n",
    "\n",
    "def get_outcomes(k, n=100):\n",
    "   return [simulate_draws(k) for i in range(0, n-1)]\n",
    "\n",
    "k_axis = [2,3,5,10]\n",
    "prob_axis = []\n",
    "avg_prob = 0\n",
    "time_axis = []\n",
    "avg_time = 0\n",
    "for k in k_axis:\n",
    "    sim = get_outcomes(k)\n",
    "    for outcome in sim:\n",
    "        avg_prob += outcome[1]\n",
    "        avg_time += outcome[0]\n",
    "    avg_prob = avg_prob/100\n",
    "    avg_time = avg_time/100\n",
    "    print (\"If k is \" + str(k) + \" correct color probability is \" + str(avg_prob))\n",
    "    print (\"If k is \" + str(k) + \" cascade time is \" + str(avg_time))\n",
    "    prob_axis.append(avg_prob)\n",
    "    time_axis.append(avg_time)\n",
    "print (\"probability plot\")\n",
    "scatter(k_axis, prob_axis, marker='o')\n",
    "show()\n",
    "print (\"cascade time plot\")\n",
    "scatter(k_axis, time_axis, marker='o')\n",
    "show()\n",
    "    "
   ]
  }
 ],
 "metadata": {
  "kernelspec": {
   "display_name": "Python 3",
   "language": "python",
   "name": "python3"
  },
  "language_info": {
   "codemirror_mode": {
    "name": "ipython",
    "version": 3
   },
   "file_extension": ".py",
   "mimetype": "text/x-python",
   "name": "python",
   "nbconvert_exporter": "python",
   "pygments_lexer": "ipython3",
   "version": "3.7.0"
  }
 },
 "nbformat": 4,
 "nbformat_minor": 2
}
